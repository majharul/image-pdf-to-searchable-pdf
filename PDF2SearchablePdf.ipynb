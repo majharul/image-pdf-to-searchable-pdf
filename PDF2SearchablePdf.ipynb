{
  "nbformat": 4,
  "nbformat_minor": 0,
  "metadata": {
    "colab": {
      "name": "PDF2SearchablePdf",
      "provenance": [],
      "authorship_tag": "ABX9TyNbc2CgwS8ac7Q7lVyZOcuB",
      "include_colab_link": true
    },
    "kernelspec": {
      "display_name": "Python 3",
      "name": "python3"
    },
    "language_info": {
      "name": "python"
    }
  },
  "cells": [
    {
      "cell_type": "markdown",
      "metadata": {
        "id": "view-in-github",
        "colab_type": "text"
      },
      "source": [
        "<a href=\"https://colab.research.google.com/github/majharul/image-pdf-to-searchable-pdf/blob/main/PDF2SearchablePdf.ipynb\" target=\"_parent\"><img src=\"https://colab.research.google.com/assets/colab-badge.svg\" alt=\"Open In Colab\"/></a>"
      ]
    },
    {
      "cell_type": "code",
      "metadata": {
        "colab": {
          "base_uri": "https://localhost:8080/"
        },
        "id": "5uZ45d4Q86hw",
        "outputId": "4f8e30f7-20ad-487a-a7d5-4c4522dc6165"
      },
      "source": [
        "from google.colab import drive\n",
        "drive.mount('/content/drive')\n"
      ],
      "execution_count": null,
      "outputs": [
        {
          "output_type": "stream",
          "text": [
            "Drive already mounted at /content/drive; to attempt to forcibly remount, call drive.mount(\"/content/drive\", force_remount=True).\n"
          ],
          "name": "stdout"
        }
      ]
    },
    {
      "cell_type": "code",
      "metadata": {
        "id": "MDlVpUla8Uo8"
      },
      "source": [
        "# import cv2\n",
        "# import numpy as np\n",
        "\n",
        "import os\n",
        "import glob\n",
        "from os import path\n",
        "\n",
        "# import re,csv\n",
        "# !pip install pdf2image\n",
        "# !pip install pytesseract\n",
        "# !pip list"
      ],
      "execution_count": null,
      "outputs": []
    },
    {
      "cell_type": "code",
      "metadata": {
        "id": "tmnD0iTnOLwO",
        "colab": {
          "base_uri": "https://localhost:8080/"
        },
        "outputId": "251e58cd-540c-4cce-bc8c-e085448a8327"
      },
      "source": [
        "#The directory where pdfs are located to convert into searchable pdfs\n",
        "\n",
        "dir='/content/drive/MyDrive/Documents /OCR_blood_test'\n",
        "# dir='/content/'\n",
        "print(dir)\n",
        "print(os.getcwd())"
      ],
      "execution_count": null,
      "outputs": [
        {
          "output_type": "stream",
          "text": [
            "/content/\n",
            "/content\n"
          ],
          "name": "stdout"
        }
      ]
    },
    {
      "cell_type": "code",
      "metadata": {
        "id": "TgLcy-kT-p3p"
      },
      "source": [
        "##Run it once only\n",
        "!pip install ocrmypdf\n",
        "\n",
        "\n",
        "##to uninstall only if requires\n",
        "# !pip uninstall ocrmypdf\n",
        "\n",
        "\n",
        "##run it once only\n",
        "!pip install pytesseract\n",
        "\n",
        "\n",
        "# !apt-get remove ocrmypdf\n",
        "##run it once only\n",
        "!sudo apt install tesseract-ocr\n",
        "!sudo apt-get -y install ghostscript\n",
        "\n",
        "\n",
        "# !sudo apt install ocrmypdf\n",
        "# !pip list\n"
      ],
      "execution_count": null,
      "outputs": []
    },
    {
      "cell_type": "code",
      "metadata": {
        "id": "XkrZJEvdBMKV"
      },
      "source": [
        "#not necessary always\n",
        "# try:\n",
        "#  from PIL import Image\n",
        "# except ImportError:\n",
        "#  import Image\n",
        "# import cv2\n",
        "\n",
        "#needed for ocs\n",
        "import pytesseract"
      ],
      "execution_count": null,
      "outputs": []
    },
    {
      "cell_type": "code",
      "metadata": {
        "id": "RTHW8efI96C_",
        "colab": {
          "base_uri": "https://localhost:8080/"
        },
        "outputId": "dd763f02-7d94-4f8e-8d62-36847943e23c"
      },
      "source": [
        "#in case of,   not working tesseract in local file change cmd \n",
        "\n",
        "!which tesseract\n",
        "!which ocrmypdf"
      ],
      "execution_count": null,
      "outputs": [
        {
          "output_type": "stream",
          "text": [
            "/usr/bin/tesseract\n",
            "/usr/local/bin/ocrmypdf\n"
          ],
          "name": "stdout"
        }
      ]
    },
    {
      "cell_type": "code",
      "metadata": {
        "id": "z4m9-bFJBXKs"
      },
      "source": [
        "pytesseract.pytesseract.tesseract_cmd = (\n",
        "    r'/usr/bin/tesseract' \n",
        ")\n"
      ],
      "execution_count": null,
      "outputs": []
    },
    {
      "cell_type": "code",
      "metadata": {
        "id": "vPXr3hZP3X-M"
      },
      "source": [
        "# # from PIL import Image\n",
        "# import pytesseract\n",
        "\n",
        "# pytesseract.pytesseract.tesseract_cmd = (\n",
        "#     r\"/usr/bin/tesseract\"\n",
        "# )\n",
        "\n",
        "# img = r\"/content/photo-confucius.jpg\"\n",
        "# # print(pytesseract.get_languages(config=''))\n",
        "# text=pytesseract.image_to_string(img, lang='eng')\n",
        "# # text = text.encode('ascii')\n",
        "# print(text.isascii())"
      ],
      "execution_count": null,
      "outputs": []
    },
    {
      "cell_type": "code",
      "metadata": {
        "colab": {
          "base_uri": "https://localhost:8080/"
        },
        "id": "G3vmhpL2GIyE",
        "outputId": "b04be426-a0e3-4541-dbb3-8d145dc884cb"
      },
      "source": [
        "# !ocrmypdf Sample.pdf output.pdf\n",
        "print(os.listdir(),os.getcwd())\n",
        "\n",
        "cdr=os.chdir(dir)\n",
        "file_list=[]\n",
        "for file in glob.glob(\"*.pdf\"):\n",
        "\n",
        "\n",
        "    file_list.append(file)\n",
        "# return list_present;\n",
        "print(\"Total Number of pdfs found in the directory is: %s \"%(len(file_list)))\n"
      ],
      "execution_count": null,
      "outputs": [
        {
          "output_type": "stream",
          "text": [
            "['.config', 'HSK 3 COURSE BOOK.pdf', 'sample_data'] /content\n",
            "Total Number of pdfs found in the directory is: 1 \n"
          ],
          "name": "stdout"
        }
      ]
    },
    {
      "cell_type": "code",
      "metadata": {
        "colab": {
          "base_uri": "https://localhost:8080/"
        },
        "id": "m5JJKjwQ_tf5",
        "outputId": "9149ed4b-7529-45bc-bcd4-0f61b5e699a6"
      },
      "source": [
        "# !apt-cache search tesseract-ocr\n",
        "# !apt-get install tesseract-ocr-chi-sim\n",
        "# !which tesseract-ocr\n",
        "# !which ocrmypdf\n",
        "# pytesseract.pytesseract.tesseract_cmd = (\n",
        "#     r'/usr/local/bin/ocrmypdf' \n",
        "# )"
      ],
      "execution_count": null,
      "outputs": [
        {
          "output_type": "stream",
          "text": [
            "/usr/local/bin/ocrmypdf\n"
          ],
          "name": "stdout"
        }
      ]
    },
    {
      "cell_type": "code",
      "metadata": {
        "colab": {
          "base_uri": "https://localhost:8080/"
        },
        "id": "XCSNyLjxDCyd",
        "outputId": "7ecd4ad3-bea5-4670-d5dc-b8f67ad640ca"
      },
      "source": [
        "# !apt-cache search tesseract-ocr-chi-sim\n",
        "# !apt-get install tesseract-ocr-chi-sim"
      ],
      "execution_count": null,
      "outputs": [
        {
          "output_type": "stream",
          "text": [
            "tesseract-ocr-chi-sim - tesseract-ocr language files for Chinese - Simplified\n",
            "tesseract-ocr-chi-sim-vert - tesseract-ocr language files for Chinese - Simplified (vertical)\n",
            "Reading package lists... Done\n",
            "Building dependency tree       \n",
            "Reading state information... Done\n",
            "tesseract-ocr-chi-sim is already the newest version (4.00~git24-0e00fe6-1.2).\n",
            "The following package was automatically installed and is no longer required:\n",
            "  libnvidia-common-460\n",
            "Use 'apt autoremove' to remove it.\n",
            "0 upgraded, 0 newly installed, 0 to remove and 34 not upgraded.\n"
          ],
          "name": "stdout"
        }
      ]
    },
    {
      "cell_type": "code",
      "metadata": {
        "colab": {
          "base_uri": "https://localhost:8080/"
        },
        "id": "Ofs9z4nABgkw",
        "outputId": "b1fc2869-631b-45c2-b62c-ee7d2615da0d"
      },
      "source": [
        "result=!ocrmypdf --sidecar output.txt --output-type pdf --optimize 0 --fast-web-view 0 -l eng+chi-sim '{item}' '{output_dir+'/'+item}'\n",
        "result"
      ],
      "execution_count": null,
      "outputs": [
        {
          "output_type": "execute_result",
          "data": {
            "text/plain": [
              "['\\x1b[31mOCR engine does not have language data for the following requested languages: ',\n",
              " 'chi-sim',\n",
              " '\\x1b[0m']"
            ]
          },
          "metadata": {
            "tags": []
          },
          "execution_count": 29
        }
      ]
    },
    {
      "cell_type": "code",
      "metadata": {
        "id": "9IuFf8Jy3Ux_"
      },
      "source": [
        "# # create a CLAHE object (Arguments are optional).\n",
        "\n",
        "# import cv2\n",
        "# from matplotlib import pyplot as plt\n",
        "\n",
        "\n",
        "# def threshold(img):\n",
        "#     #pixels with value below 100 are turned black (0) and those with higher value are turned white (255)\n",
        "#     img = cv2.threshold(img, 100, 255, cv2.THRESH_OTSU | cv2.THRESH_BINARY)[1]    \n",
        "#     # cv2.imwrite(r\"./preprocess/img_threshold.png\",img)\n",
        "#     return img\n",
        "\n",
        "# img=cv2.imread('/content/drive/MyDrive/Documents /OCR_blood_test/improve_brightness.png')\n",
        "\n",
        "\n",
        "# img=threshold(img)\n",
        "# plt.imshow(img)\n",
        "\n",
        "# # lahe = cv2.createCLAHE(clipLimit=2.0, tileGridSize=(8,8))\n",
        "# # cl1 = clahe.apply(img)\n",
        "# # plt.imshow(cl1)"
      ],
      "execution_count": null,
      "outputs": []
    },
    {
      "cell_type": "code",
      "metadata": {
        "id": "LBjpAK1UTE73",
        "colab": {
          "base_uri": "https://localhost:8080/"
        },
        "outputId": "d88e9eab-bd23-4a7e-b334-c28acf6817fe"
      },
      "source": [
        "flag=0\n",
        "#for directory\n",
        "# !find . -printf '%p' -name '*.pdf' -exec ocrmypdf '{}' '{}' \\;\n",
        "#for parallel\n",
        "# !parallel j 2 ocrmypdf '{item}' 'output_dir/{item}' ::: *.pdf \n",
        "# ######\n",
        "\n",
        "\n",
        "output_dir='output_test'\n",
        "if not os.path.exists(output_dir):\n",
        "    os.makedirs(output_dir)\n",
        "else:\n",
        "    pass\n",
        "\n",
        "\n",
        "for item in file_list:\n",
        "    \n",
        "    \n",
        "    # script_dir = os.path.dirname(os.path.realpath(item))\n",
        "    # !ocrmypdf item output_dir+'/'item ocrmypdf --output-type pdf input.pdf output.pdf\n",
        "    attempt=0\n",
        "    if os.path.isfile(output_dir+'/'+item)==True:\n",
        "        print(\"%s Pdf already converted\"%item)\n",
        "        attempt=attempt+1\n",
        "    else:\n",
        "        try:\n",
        "            print(\"Now working on %d named %s\"%(flag,item))\n",
        "            result=!ocrmypdf --sidecar output.txt --output-type pdf --optimize 0 --fast-web-view 0 '{item}' '{output_dir+'/'+item}'\n",
        "            # if result == ocrmypdf.ExitCode.already_done_ocr:\n",
        "            #         print(\"Skipped document because it already contained text\")\n",
        "            # elif result == ocrmypdf.ExitCode.ok:\n",
        "            #     print(\"Done\")\n",
        "                \n",
        "            print(\"Count %d : Pdf name is '%s' --Converted to Searchable or already exist --completed\"%(flag,item))\n",
        "            print(flag)\n",
        "            flag=flag+1\n",
        "\n",
        "        except:\n",
        "            pass\n",
        "    if flag==1 | attempt==1:\n",
        "\n",
        "        break\n",
        "\n",
        "    # print(script_dir )"
      ],
      "execution_count": null,
      "outputs": [
        {
          "output_type": "stream",
          "text": [
            "Now working on 0 named HSK 3 COURSE BOOK.pdf\n",
            "Count 0 : Pdf name is 'HSK 3 COURSE BOOK.pdf' --Converted to Searchable or already exist --completed\n",
            "0\n"
          ],
          "name": "stdout"
        }
      ]
    },
    {
      "cell_type": "code",
      "metadata": {
        "id": "C6xBo-eGJuNn"
      },
      "source": [
        "# if os.path.exists(output_dir+'/'+item)==True:\n",
        "    \n",
        "\n",
        "#     print(item)\n",
        "#     print(\"%s Pdf already converted\"%item)"
      ],
      "execution_count": null,
      "outputs": []
    },
    {
      "cell_type": "markdown",
      "metadata": {
        "id": "rABjg7pR6sfm"
      },
      "source": [
        "### **From now on table data extraction from pdf/image will be processed using ocr , output will be CSV**"
      ]
    },
    {
      "cell_type": "markdown",
      "metadata": {
        "id": "3aeK6BTot0xa"
      },
      "source": [
        "[link text](https://eihli.github.io/image-table-ocr/pdf_table_extraction_and_ocr.html)\n",
        "\n",
        "[link text](https://answers.opencv.org/question/63847/how-to-extract-tables-from-an-image/)\n",
        "\n",
        "[link text](https://github.com/eihli/image-table-ocr)\n",
        "https://github.com/eihli/image-table-ocr/issues/1\n",
        "\n"
      ]
    }
  ]
}